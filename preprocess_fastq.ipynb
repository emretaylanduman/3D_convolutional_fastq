#!/usr/bin/env bash
cat <<EOF
{
 "cells": [],
 "metadata": {},
 "nbformat": 4,
 "nbformat_minor": 2
}
EOF
